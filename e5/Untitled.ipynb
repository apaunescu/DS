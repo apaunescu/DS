{
 "cells": [
  {
   "cell_type": "code",
   "execution_count": 2,
   "metadata": {},
   "outputs": [],
   "source": [
    "import pandas as pd\n",
    "import matplotlib.pyplot as plt\n",
    "import numpy as np\n",
    "import sys"
   ]
  },
  {
   "cell_type": "code",
   "execution_count": 14,
   "metadata": {},
   "outputs": [],
   "source": [
    "csv1 = pd.read_csv(\"data-1.csv\")\n",
    "csv2 = pd.read_csv(\"data-2.csv\")\n",
    "csv3 = pd.read_csv(\"data-3.csv\")\n",
    "csv4 = pd.read_csv(\"data-4.csv\")\n",
    "csv5 = pd.read_csv(\"data-5.csv\")\n",
    "csv6 = pd.read_csv(\"data-6.csv\")\n"
   ]
  },
  {
   "cell_type": "code",
   "execution_count": 23,
   "metadata": {},
   "outputs": [],
   "source": [
    "csv1_mean_x = csv1['x'].mean()\n",
    "csv1_mean_y = csv1['y'].mean()\n",
    "csv1_std_x = csv1['x'].std()\n",
    "csv1_std_y = csv1['y'].std()\n",
    "csv1_min_x = csv1['x'].min()\n",
    "csv1_max_x = csv1['x'].max()\n",
    "csv1_min_y = csv1['y'].min()\n",
    "csv1_max_y = csv1['y'].max()\n",
    "correlation1 = csv1['x'].corr(csv1['y'])"
   ]
  },
  {
   "cell_type": "code",
   "execution_count": 24,
   "metadata": {},
   "outputs": [],
   "source": [
    "csv2_mean_x = csv2['x'].mean()\n",
    "csv2_mean_y = csv2['y'].mean()\n",
    "csv2_std_x = csv2['x'].std()\n",
    "csv2_std_y = csv2['y'].std()\n",
    "csv2_min_x = csv2['x'].min()\n",
    "csv2_max_x = csv2['x'].max()\n",
    "csv2_min_y = csv2['y'].min()\n",
    "csv2_max_y = csv2['y'].max()\n",
    "correlation2 = csv2['x'].corr(csv2['y'])"
   ]
  },
  {
   "cell_type": "code",
   "execution_count": 25,
   "metadata": {},
   "outputs": [],
   "source": [
    "csv3_mean_x = csv3['x'].mean()\n",
    "csv3_mean_y = csv3['y'].mean()\n",
    "csv3_std_x = csv3['x'].std()\n",
    "csv3_std_y = csv3['y'].std()\n",
    "csv3_min_x = csv3['x'].min()\n",
    "csv3_max_x = csv3['x'].max()\n",
    "csv3_min_y = csv3['y'].min()\n",
    "csv3_max_y = csv3['y'].max()\n",
    "correlation3 = csv3['x'].corr(csv3['y'])"
   ]
  },
  {
   "cell_type": "code",
   "execution_count": 26,
   "metadata": {},
   "outputs": [],
   "source": [
    "csv4_mean_x = csv4['x'].mean()\n",
    "csv4_mean_y = csv4['y'].mean()\n",
    "csv4_std_x = csv4['x'].std()\n",
    "csv4_std_y = csv4['y'].std()\n",
    "csv4_min_x = csv4['x'].min()\n",
    "csv4_max_x = csv4['x'].max()\n",
    "csv4_min_y = csv4['y'].min()\n",
    "csv4_max_y = csv4['y'].max()\n",
    "correlation4 = csv4['x'].corr(csv4['y'])"
   ]
  },
  {
   "cell_type": "code",
   "execution_count": 27,
   "metadata": {},
   "outputs": [],
   "source": [
    "csv5_mean_x = csv5['x'].mean()\n",
    "csv5_mean_y = csv5['y'].mean()\n",
    "csv5_std_x = csv5['x'].std()\n",
    "csv5_std_y = csv5['y'].std()\n",
    "csv5_min_x = csv5['x'].min()\n",
    "csv5_max_x = csv5['x'].max()\n",
    "csv5_min_y = csv5['y'].min()\n",
    "csv5_max_y = csv5['y'].max()\n",
    "correlation5 = csv5['x'].corr(csv5['y'])"
   ]
  },
  {
   "cell_type": "code",
   "execution_count": 28,
   "metadata": {},
   "outputs": [],
   "source": [
    "csv6_mean_x = csv6['x'].mean()\n",
    "csv6_mean_y = csv6['y'].mean()\n",
    "csv6_std_x = csv6['x'].std()\n",
    "csv6_std_y = csv6['y'].std()\n",
    "csv6_min_x = csv6['x'].min()\n",
    "csv6_max_x = csv6['x'].max()\n",
    "csv6_min_y = csv6['y'].min()\n",
    "csv6_max_y = csv6['y'].max()\n",
    "correlation6 = csv6['x'].corr(csv6['y'])"
   ]
  },
  {
   "cell_type": "code",
   "execution_count": 55,
   "metadata": {},
   "outputs": [],
   "source": [
    "with open(\"summary.txt\", \"w\") as text_file:\n",
    "    text_file.write(\"\\ncsv1_mean_x: %s \\ncsv1_mean_y: %s \\ncsv1_std_x: %s \\ncsv1_std_y: %s \\ncsv1_min_x: %s \\ncsv1_max_x: %s \\ncsv1_min_y: %s \\ncsv1_max_y: %s \\ncorrelation1: %s\" % \n",
    "                    (csv1_mean_x, csv1_mean_y, csv1_std_x, csv1_std_y, csv1_min_x, csv1_max_x, csv1_min_y, csv1_max_y, correlation1 ))"
   ]
  },
  {
   "cell_type": "code",
   "execution_count": 56,
   "metadata": {},
   "outputs": [],
   "source": [
    "with open(\"summary.txt\", \"a\") as text_file:\n",
    "    text_file.write(\"\\ncsv2_mean_x: %s \\ncsv2_mean_y: %s \\ncsv2_std_x: %s \\ncsv2_std_y: %s \\ncsv2_min_x: %s \\ncsv2_max_x: %s \\ncsv2_min_y: %s \\ncsv2_max_y: %s \\ncorrelation2: %s\" % \n",
    "                    (csv2_mean_x, csv2_mean_y, csv2_std_x, csv2_std_y, csv2_min_x, csv2_max_x, csv2_min_y, csv2_max_y, correlation2 ))"
   ]
  },
  {
   "cell_type": "code",
   "execution_count": 57,
   "metadata": {},
   "outputs": [],
   "source": [
    "with open(\"summary.txt\", \"a\") as text_file:\n",
    "    text_file.write(\"\\ncsv3_mean_x: %s \\ncsv3_mean_y: %s \\ncsv3_std_x: %s \\ncsv3_std_y: %s \\ncsv3_min_x: %s \\ncsv3_max_x: %s \\ncsv3_min_y: %s \\ncsv3_max_y: %s \\ncorrelation3: %s\" % \n",
    "                    (csv3_mean_x, csv3_mean_y, csv3_std_x, csv3_std_y, csv3_min_x, csv3_max_x, csv3_min_y, csv3_max_y, correlation3 ))"
   ]
  },
  {
   "cell_type": "code",
   "execution_count": 58,
   "metadata": {},
   "outputs": [],
   "source": [
    "with open(\"summary.txt\", \"a\") as text_file:\n",
    "    text_file.write(\"\\ncsv4_mean_x: %s \\ncsv4_mean_y: %s \\ncsv4_std_x: %s \\ncsv4_std_y: %s \\ncsv4_min_x: %s \\ncsv4_max_x: %s \\ncsv4_min_y: %s \\ncsv4_max_y: %s \\ncorrelation4: %s\" % \n",
    "                    (csv4_mean_x, csv4_mean_y, csv4_std_x, csv4_std_y, csv4_min_x, csv4_max_x, csv4_min_y, csv4_max_y, correlation4 ))"
   ]
  },
  {
   "cell_type": "code",
   "execution_count": 59,
   "metadata": {},
   "outputs": [],
   "source": [
    "with open(\"summary.txt\", \"a\") as text_file:\n",
    "    text_file.write(\"\\ncsv5_mean_x: %s \\ncsv5_mean_y: %s \\ncsv5_std_x: %s \\ncsv5_std_y: %s \\ncsv5_min_x: %s \\ncsv5_max_x: %s \\ncsv5_min_y: %s \\ncsv5_max_y: %s \\ncorrelation5: %s\" % \n",
    "                    (csv5_mean_x, csv5_mean_y, csv5_std_x, csv5_std_y, csv5_min_x, csv5_max_x, csv5_min_y, csv5_max_y, correlation5 ))"
   ]
  },
  {
   "cell_type": "code",
   "execution_count": 60,
   "metadata": {},
   "outputs": [],
   "source": [
    "with open(\"summary.txt\", \"a\") as text_file:\n",
    "    text_file.write(\"\\ncsv6_mean_x: %s \\ncsv6_mean_y: %s \\ncsv6_std_x: %s \\ncsv6_std_y: %s \\ncsv6_min_x: %s \\ncsv6_max_x: %s \\ncsv6_min_y: %s \\ncsv6_max_y: %s \\ncorrelation6: %s\" % \n",
    "                    (csv6_mean_x, csv6_mean_y, csv6_std_x, csv6_std_y, csv6_min_x, csv6_max_x, csv6_min_y, csv6_max_y, correlation6 ))"
   ]
  },
  {
   "cell_type": "code",
   "execution_count": 61,
   "metadata": {},
   "outputs": [],
   "source": [
    "with open(\"summary.txt\", \"a\") as text_file:\n",
    "    text_file.write(\"\\nCSV1 - positive correlation, high standard devitiation for both, similar means\")\n",
    "with open(\"summary.txt\", \"a\") as text_file:\n",
    "    text_file.write(\"\\nCSV2 - very similar means, positive correlation, high standard deviation for x (almost double y)\")\n",
    "with open(\"summary.txt\", \"a\") as text_file:\n",
    "    text_file.write(\"\\nCSV3 - very high positive correlation, similar standard deviattion (it's also low)\")\n",
    "with open(\"summary.txt\", \"a\") as text_file:\n",
    "    text_file.write(\"\\nCSV4 - very very slightl negative correlation, very high standard deviations, min values for both are 0\")\n",
    "with open(\"summary.txt\", \"a\") as text_file:\n",
    "    text_file.write(\"\\nCSV5 - very very slight negative correlation, very high standard deviations, high max values\")\n",
    "with open(\"summary.txt\", \"a\") as text_file:\n",
    "    text_file.write(\"\\nCSV6 - positive correlation, similar values for all (mean, std, range)\")"
   ]
  },
  {
   "cell_type": "code",
   "execution_count": null,
   "metadata": {},
   "outputs": [],
   "source": []
  }
 ],
 "metadata": {
  "kernelspec": {
   "display_name": "Python 3",
   "language": "python",
   "name": "python3"
  },
  "language_info": {
   "codemirror_mode": {
    "name": "ipython",
    "version": 3
   },
   "file_extension": ".py",
   "mimetype": "text/x-python",
   "name": "python",
   "nbconvert_exporter": "python",
   "pygments_lexer": "ipython3",
   "version": "3.6.5"
  }
 },
 "nbformat": 4,
 "nbformat_minor": 2
}
